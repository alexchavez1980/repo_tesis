{
 "cells": [
  {
   "cell_type": "markdown",
   "id": "0be01b6c-a609-46f2-8c4c-2b0f8e123b52",
   "metadata": {},
   "source": [
    "### 1. Instalar e importar librerías"
   ]
  },
  {
   "cell_type": "code",
   "execution_count": 11,
   "id": "81b3aa26-907c-4b71-8d89-85fa53a0670c",
   "metadata": {
    "collapsed": true,
    "jupyter": {
     "outputs_hidden": true
    },
    "tags": []
   },
   "outputs": [
    {
     "name": "stdout",
     "output_type": "stream",
     "text": [
      "Collecting yfinance\n",
      "  Downloading yfinance-0.1.77-py2.py3-none-any.whl (28 kB)\n",
      "Requirement already satisfied: pandas>=0.24.0 in c:\\users\\alexc\\anaconda3\\lib\\site-packages (from yfinance) (1.3.4)\n",
      "Collecting multitasking>=0.0.7\n",
      "  Downloading multitasking-0.0.11-py3-none-any.whl (8.5 kB)\n",
      "Requirement already satisfied: numpy>=1.15 in c:\\users\\alexc\\anaconda3\\lib\\site-packages (from yfinance) (1.20.3)\n",
      "Requirement already satisfied: lxml>=4.5.1 in c:\\users\\alexc\\anaconda3\\lib\\site-packages (from yfinance) (4.6.3)\n",
      "Requirement already satisfied: appdirs>=1.4.4 in c:\\users\\alexc\\anaconda3\\lib\\site-packages (from yfinance) (1.4.4)\n",
      "Requirement already satisfied: requests>=2.26 in c:\\users\\alexc\\anaconda3\\lib\\site-packages (from yfinance) (2.26.0)\n",
      "Requirement already satisfied: pytz>=2017.3 in c:\\users\\alexc\\anaconda3\\lib\\site-packages (from pandas>=0.24.0->yfinance) (2021.3)\n",
      "Requirement already satisfied: python-dateutil>=2.7.3 in c:\\users\\alexc\\anaconda3\\lib\\site-packages (from pandas>=0.24.0->yfinance) (2.8.2)\n",
      "Requirement already satisfied: six>=1.5 in c:\\users\\alexc\\anaconda3\\lib\\site-packages (from python-dateutil>=2.7.3->pandas>=0.24.0->yfinance) (1.16.0)\n",
      "Requirement already satisfied: certifi>=2017.4.17 in c:\\users\\alexc\\anaconda3\\lib\\site-packages (from requests>=2.26->yfinance) (2021.10.8)\n",
      "Requirement already satisfied: charset-normalizer~=2.0.0 in c:\\users\\alexc\\anaconda3\\lib\\site-packages (from requests>=2.26->yfinance) (2.0.4)\n",
      "Requirement already satisfied: idna<4,>=2.5 in c:\\users\\alexc\\anaconda3\\lib\\site-packages (from requests>=2.26->yfinance) (3.2)\n",
      "Requirement already satisfied: urllib3<1.27,>=1.21.1 in c:\\users\\alexc\\anaconda3\\lib\\site-packages (from requests>=2.26->yfinance) (1.26.7)\n",
      "Installing collected packages: multitasking, yfinance\n",
      "Successfully installed multitasking-0.0.11 yfinance-0.1.77\n",
      "Note: you may need to restart the kernel to use updated packages.\n"
     ]
    }
   ],
   "source": [
    "pip install yfinance"
   ]
  },
  {
   "cell_type": "code",
   "execution_count": 12,
   "id": "4666c003-d53f-4faf-859c-2df4e1baf3d3",
   "metadata": {},
   "outputs": [],
   "source": [
    "import pandas as pd\n",
    "import numpy as np\n",
    "import yfinance as yf\n",
    "import datetime\n",
    "pd.options.display.float_format = '{:.4f}'.format # Flotantes de 4 decimales."
   ]
  },
  {
   "cell_type": "code",
   "execution_count": 13,
   "id": "fcd3313d-7f24-462d-9c1a-4443060fa95c",
   "metadata": {},
   "outputs": [
    {
     "name": "stdout",
     "output_type": "stream",
     "text": [
      "[*********************100%***********************]  1 of 1 completed\n"
     ]
    },
    {
     "data": {
      "text/html": [
       "<div>\n",
       "<style scoped>\n",
       "    .dataframe tbody tr th:only-of-type {\n",
       "        vertical-align: middle;\n",
       "    }\n",
       "\n",
       "    .dataframe tbody tr th {\n",
       "        vertical-align: top;\n",
       "    }\n",
       "\n",
       "    .dataframe thead th {\n",
       "        text-align: right;\n",
       "    }\n",
       "</style>\n",
       "<table border=\"1\" class=\"dataframe\">\n",
       "  <thead>\n",
       "    <tr style=\"text-align: right;\">\n",
       "      <th></th>\n",
       "      <th>Open</th>\n",
       "      <th>High</th>\n",
       "      <th>Low</th>\n",
       "      <th>Close</th>\n",
       "      <th>Adj Close</th>\n",
       "      <th>Volume</th>\n",
       "    </tr>\n",
       "  </thead>\n",
       "  <tbody>\n",
       "    <tr>\n",
       "      <th>count</th>\n",
       "      <td>722.0000</td>\n",
       "      <td>722.0000</td>\n",
       "      <td>722.0000</td>\n",
       "      <td>722.0000</td>\n",
       "      <td>722.0000</td>\n",
       "      <td>722.0000</td>\n",
       "    </tr>\n",
       "    <tr>\n",
       "      <th>mean</th>\n",
       "      <td>19743.5626</td>\n",
       "      <td>19797.5092</td>\n",
       "      <td>19684.5783</td>\n",
       "      <td>19741.5837</td>\n",
       "      <td>19741.5837</td>\n",
       "      <td>252955028.2105</td>\n",
       "    </tr>\n",
       "    <tr>\n",
       "      <th>std</th>\n",
       "      <td>847.5587</td>\n",
       "      <td>851.5025</td>\n",
       "      <td>842.5547</td>\n",
       "      <td>845.8372</td>\n",
       "      <td>845.8372</td>\n",
       "      <td>530849055.7822</td>\n",
       "    </tr>\n",
       "    <tr>\n",
       "      <th>min</th>\n",
       "      <td>18415.5918</td>\n",
       "      <td>18474.3184</td>\n",
       "      <td>18290.3145</td>\n",
       "      <td>18417.9902</td>\n",
       "      <td>18417.9902</td>\n",
       "      <td>0.0000</td>\n",
       "    </tr>\n",
       "    <tr>\n",
       "      <th>25%</th>\n",
       "      <td>19196.7114</td>\n",
       "      <td>19241.5464</td>\n",
       "      <td>19124.8662</td>\n",
       "      <td>19198.9561</td>\n",
       "      <td>19198.9561</td>\n",
       "      <td>0.0000</td>\n",
       "    </tr>\n",
       "    <tr>\n",
       "      <th>50%</th>\n",
       "      <td>19493.8340</td>\n",
       "      <td>19529.6318</td>\n",
       "      <td>19453.6211</td>\n",
       "      <td>19494.2051</td>\n",
       "      <td>19494.2051</td>\n",
       "      <td>0.0000</td>\n",
       "    </tr>\n",
       "    <tr>\n",
       "      <th>75%</th>\n",
       "      <td>20056.0044</td>\n",
       "      <td>20109.0342</td>\n",
       "      <td>20012.0474</td>\n",
       "      <td>20055.3281</td>\n",
       "      <td>20055.3281</td>\n",
       "      <td>289124352.0000</td>\n",
       "    </tr>\n",
       "    <tr>\n",
       "      <th>max</th>\n",
       "      <td>22538.4570</td>\n",
       "      <td>22673.8203</td>\n",
       "      <td>22524.9980</td>\n",
       "      <td>22539.3652</td>\n",
       "      <td>22539.3652</td>\n",
       "      <td>7131578368.0000</td>\n",
       "    </tr>\n",
       "  </tbody>\n",
       "</table>\n",
       "</div>"
      ],
      "text/plain": [
       "            Open       High        Low      Close  Adj Close          Volume\n",
       "count   722.0000   722.0000   722.0000   722.0000   722.0000        722.0000\n",
       "mean  19743.5626 19797.5092 19684.5783 19741.5837 19741.5837  252955028.2105\n",
       "std     847.5587   851.5025   842.5547   845.8372   845.8372  530849055.7822\n",
       "min   18415.5918 18474.3184 18290.3145 18417.9902 18417.9902          0.0000\n",
       "25%   19196.7114 19241.5464 19124.8662 19198.9561 19198.9561          0.0000\n",
       "50%   19493.8340 19529.6318 19453.6211 19494.2051 19494.2051          0.0000\n",
       "75%   20056.0044 20109.0342 20012.0474 20055.3281 20055.3281  289124352.0000\n",
       "max   22538.4570 22673.8203 22524.9980 22539.3652 22539.3652 7131578368.0000"
      ]
     },
     "execution_count": 13,
     "metadata": {},
     "output_type": "execute_result"
    }
   ],
   "source": [
    "ds_BTC = yf.download('BTC-USD', period = '1mo', interval = '60m')\n",
    "ds_BTC.describe()"
   ]
  },
  {
   "cell_type": "code",
   "execution_count": 14,
   "id": "33266afb-6d13-4a2e-826f-8bfab93a53ad",
   "metadata": {},
   "outputs": [],
   "source": [
    "ds_BTC['DateTime'] = ds_BTC.index # Importante: Incluyo la cronología en una columna\n",
    "ds_BTC = ds_BTC[['DateTime','Open','High','Low','Close','Adj Close','Volume']]\n",
    "ds_BTC.head()"
   ]
  },
  {
   "cell_type": "code",
   "execution_count": 17,
   "id": "02e808a2-7f7d-4a71-a868-63cf1dc58297",
   "metadata": {},
   "outputs": [],
   "source": [
    "ds_BTC.to_csv(r'./ds_BTC_TEST_TOPICOS.csv') # , sep='\\t', encoding='utf-8', header='true'"
   ]
  }
 ],
 "metadata": {
  "kernelspec": {
   "display_name": "Python 3 (ipykernel)",
   "language": "python",
   "name": "python3"
  },
  "language_info": {
   "codemirror_mode": {
    "name": "ipython",
    "version": 3
   },
   "file_extension": ".py",
   "mimetype": "text/x-python",
   "name": "python",
   "nbconvert_exporter": "python",
   "pygments_lexer": "ipython3",
   "version": "3.9.7"
  }
 },
 "nbformat": 4,
 "nbformat_minor": 5
}
