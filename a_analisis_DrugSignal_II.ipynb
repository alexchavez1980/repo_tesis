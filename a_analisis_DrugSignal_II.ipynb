{
 "cells": [
  {
   "cell_type": "code",
   "execution_count": 2,
   "metadata": {},
   "outputs": [],
   "source": [
    "import mne                                                              # Librería de python para explorar, visualizar,\n",
    "mne.set_log_level('WARNING')                                            # y analizar datos neurofisiológicos humanos.\n",
    "import scipy.io\n",
    "import numpy as np\n",
    "import pandas as pd\n",
    "import matplotlib.pyplot as plt\n",
    "import seaborn as sb                                                    \n",
    "color = ['green', 'blue','red','cyan', 'magenta', 'yellow','k','w']     # Paleta de colores para diferenciar las ondas\n",
    "\n",
    "import a_funciones as a_fun                                             # Funciones Alex\n",
    "\n",
    "xlabel = 'Muestra'                                                      # Abscisas\n",
    "ylabel = 'Amplitud (uV)'                                                # Ordenadas"
   ]
  },
  {
   "cell_type": "code",
   "execution_count": 3,
   "metadata": {},
   "outputs": [],
   "source": [
    "#import mne\n",
    "#mne.set_log_level('WARNING')\n",
    "#import scipy.io\n",
    "#import numpy as np\n",
    "\n",
    "# First load the template.  This is the signal that will be used to DRUG the basal EEG stream.\n",
    "mat = scipy.io.loadmat('./dataset/ERPTemplate.mat')\n",
    "\n",
    "routput = mat['routput']\n",
    "\n",
    "# In this ERPTemplate, there are two different template signals that are good.\n",
    "erptemplate1 = routput[0][7][0][1][0][0][0][7] \n",
    "erptemplate2 = routput[0][7][0][1][0][0][0][0] \n",
    "\n",
    "# The original ERPTemplate dataset has a sampling frequency of 256 so I need to perform a small downsampling to 250 Hz\n",
    "erptemplate1 = np.delete( erptemplate1, range(0,256,43),0)\n",
    "erptemplate2 = np.delete( erptemplate2, range(0,256,43),0)\n",
    "\n",
    "# Use this for testing  (get a ZERO signal)\n",
    "#erptemplate1 = np.zeros((250,8))\n",
    "\n",
    "# Randomize amplitude and jitter.\n",
    "# Find the right locations where this should be inserted in the stream.\n",
    "# Insert the signal mantaining the continiuity of the EEG.\n",
    "def DrugSignal(signal, t_flash):\n",
    "    '''\n",
    "    Randomize amplitude and jitter\n",
    "    Find the right locations where this should be inserted in the stream\n",
    "    Insert the template mantaining the continuity and physiological meaning of the EEG\n",
    "    '''\n",
    "    for i in range(0,4200):\n",
    "        if (t_flash[i,3]==2):\n",
    "            signal[t_flash[i,0]-1:t_flash[i,0]+250-1,:] += (erptemplate1*3)\n",
    "\n",
    "    return signal\n",
    "\n",
    "# Now load the basal EEG stream\n",
    "mat = scipy.io.loadmat('./dataset/p300-subject-25.mat')\n",
    "#mat = scipy.io.loadmat('./dataset/p300-subject-26.mat')\n",
    "#mat = scipy.io.loadmat('/Users/rramele/./GoogleDrive/Data/P300/p300-subject-21.mat')\n",
    "#mat = scipy.io.loadmat('/Users/rramele/./GoogleDrive/Data/P300/p300-subject-06.mat')\n",
    "\n",
    "# In[1]:\n",
    "\n",
    "# coding: latin-1\n",
    "# Data point zero for the eight channels.  Should be in V.\n",
    "signal = mat['data'][0][0][0] \n",
    "#* pow(10,6)\n",
    "\n",
    "# Trials\n",
    "t_trials = mat['data'][0][0][3]\n",
    "\n",
    "# Flash matrix\n",
    "t_flash = mat['data'][0][0][4]\n",
    "\n",
    "signal = DrugSignal(signal, t_flash)\n",
    "\n",
    "t_stim = mat['data'][0][0][2]\n",
    "t_type = mat['data'][0][0][1]"
   ]
  },
  {
   "attachments": {},
   "cell_type": "markdown",
   "metadata": {},
   "source": [
    "### Análisis de DrugSignal.py, parte II  \n",
    "  \n",
    "En *a_analisis_funcion_DrugSignal.ipynb* se llega a drogar la señal con variaciones en la amplitud y fase.  \n",
    "A continuación la preparación de los datos para ser visualizados con la librería de python mne.  \n",
    "  \n",
    "[*Creating data objects from arrays. mne library*](https://mne.tools/stable/creating_from_arrays.html)  \n",
    "  \n",
    "- Una instancia básica de información llamada *info_events*:  \n",
    "Esta contiene el nombre de los canales, el ratio de muestreo y el canal de datos.  \n",
    "Para éste caso no se usará canal de datos, por eso se carga *ch_types_events* con ['misc'].  \n",
    "  \n",
    "- Un objeto \"en crudo\" a partir de un array de numpy llamado *eeg*.  \n",
    "\n",
    "- Un tercer objeto *event_times* que trae la info completa y además agrega el 't_type',\n",
    "profundizado en [*a_analisis_p300subject25_stim&type.ipynb*](a_analisis_p300subject25_stim&type.ipynb)."
   ]
  },
  {
   "cell_type": "code",
   "execution_count": 4,
   "metadata": {},
   "outputs": [],
   "source": [
    "ch_names=['Fz','Cz','P3','Pz','P4','PO7','PO8', 'Oz']                   # Los nombres de los canales\n",
    "ch_types= ['eeg'] * signal.shape[1]                                     # Un vector de tamaño 8 con el'eeg' repetido\n",
    "ch_names_events = ch_names + ['t_stim']+ ['t_type']                     # Le agrega  't_stim' y't_type' \n",
    "ch_types_events = ch_types + ['misc'] + ['misc']                        # Le agrega dos 'misc': \n",
    "                                                                        # Channel types, default is 'misc' which is not a data channel. \n",
    "                                                                        # Currently supported fields are ‘ecg’, ‘bio’, ‘stim’, ‘eog’, ‘misc’, \n",
    "                                                                        # ‘seeg’, ‘dbs’, ‘ecog’, ‘mag’, ‘eeg’, ‘ref_meg’, ‘grad’, ‘emg’, ‘hbr’ or ‘hbo’. \n",
    "                                                                        # If str, then all channels are assumed to be of the same type.\n",
    "signal_events = np.concatenate([signal, t_stim, t_type],1)              # Se agrega a la señal drogada 't_stim' y 't_type'\n",
    "df_signal_events = a_fun.to_df(signal_events)\n",
    "info_events = mne.create_info(ch_names_events,250, ch_types_events)     # Acá crea los eventos. \n",
    "eeg = mne.io.RawArray(signal_events.T, info_events)                     # El objeto en crudo.\n",
    "\n",
    "# Do some basic signal processing (1-20 band pass filter)\n",
    "#fig=eeg.plot_psd()\n",
    "eeg.filter(1,20)\n",
    "#fig=eeg.plot_psd()\n",
    "event_times = mne.find_events(eeg, stim_channel='t_type')  \n",
    "df_event_times = a_fun.to_df(event_times)  \n",
    "\n",
    "# eeg.plot(scalings='auto', n_channels=8, events=event_times, block=True)   # scalings=10e-05"
   ]
  },
  {
   "cell_type": "code",
   "execution_count": null,
   "metadata": {},
   "outputs": [],
   "source": [
    "eeg\n"
   ]
  },
  {
   "cell_type": "code",
   "execution_count": null,
   "metadata": {},
   "outputs": [],
   "source": [
    "df_signal_events"
   ]
  },
  {
   "cell_type": "code",
   "execution_count": null,
   "metadata": {},
   "outputs": [],
   "source": [
    "signal_events_T = signal_events.T\n",
    "df_signal_events_T = a_fun.to_df(signal_events_T)\n",
    "df_signal_events_T"
   ]
  },
  {
   "cell_type": "code",
   "execution_count": 7,
   "metadata": {},
   "outputs": [],
   "source": [
    "if (np.unique(t_flash[:,0]).shape[0] != 4200):                          # evalúa si el \"sample point id\" de t_flash tiene el tamaño correcto.\n",
    "    u,c = np.unique( t_flash[:,0], return_counts=True)                  # u->Los elementos únicos. c->la cantidad de veces que se repiten.\n",
    "    dup = u[c>1]                                                        # dup->Los que estén repetidos mas de una vez.                              \n",
    "\n",
    "    for i in range(dup.shape[0]):\n",
    "        idx = np.where( t_flash[:,0] == dup[i] )[0][0]\n",
    "        t_flash[idx,0]  -= 1\n",
    "        t_flash[idx,1]  = 1\n",
    "        t_type[t_flash[idx,0]] = t_flash[idx,3]\n",
    "        t_stim[t_flash[idx,0]] = t_flash[idx,2]\n",
    "\n",
    "np.unique(t_flash[:,0]).shape\n",
    "assert  np.unique(t_flash[:,0]).shape[0] == 4200, 'Problem with experiment structure.  There aren''t enough events.'\n"
   ]
  },
  {
   "cell_type": "code",
   "execution_count": 11,
   "metadata": {},
   "outputs": [
    {
     "data": {
      "text/html": [
       "<div>\n",
       "<style scoped>\n",
       "    .dataframe tbody tr th:only-of-type {\n",
       "        vertical-align: middle;\n",
       "    }\n",
       "\n",
       "    .dataframe tbody tr th {\n",
       "        vertical-align: top;\n",
       "    }\n",
       "\n",
       "    .dataframe thead th {\n",
       "        text-align: right;\n",
       "    }\n",
       "</style>\n",
       "<table border=\"1\" class=\"dataframe\">\n",
       "  <thead>\n",
       "    <tr style=\"text-align: right;\">\n",
       "      <th></th>\n",
       "      <th>0</th>\n",
       "      <th>sample</th>\n",
       "    </tr>\n",
       "  </thead>\n",
       "  <tbody>\n",
       "    <tr>\n",
       "      <th>0</th>\n",
       "      <td>False</td>\n",
       "      <td>0</td>\n",
       "    </tr>\n",
       "    <tr>\n",
       "      <th>1</th>\n",
       "      <td>1</td>\n",
       "      <td>1</td>\n",
       "    </tr>\n",
       "  </tbody>\n",
       "</table>\n",
       "</div>"
      ],
      "text/plain": [
       "       0  sample\n",
       "0  False       0\n",
       "1      1       1"
      ]
     },
     "execution_count": 11,
     "metadata": {},
     "output_type": "execute_result"
    }
   ],
   "source": [
    "alex = np.unique((t_flash[:,0]).shape[0] != 4200, return_counts=True)\n",
    "df_alex = a_fun.to_df(alex)\n",
    "df_alex"
   ]
  },
  {
   "cell_type": "code",
   "execution_count": 8,
   "metadata": {},
   "outputs": [],
   "source": [
    "t_flash_rara = t_flash[:,0]                                             \n",
    "df_t_flash_rara = a_fun.to_df(t_flash_rara)\n",
    "#df_t_flash_rara\n",
    "\n",
    "\n",
    "marco = np.unique(t_flash[:,0]).shape\n",
    "assert  np.unique(t_flash[:,0]).shape[0] == 4200, 'Problem with experiment structure.  There aren''t enough events.'"
   ]
  },
  {
   "cell_type": "code",
   "execution_count": 35,
   "metadata": {},
   "outputs": [
    {
     "data": {
      "text/plain": [
       "4200"
      ]
     },
     "execution_count": 35,
     "metadata": {},
     "output_type": "execute_result"
    }
   ],
   "source": [
    "t_flash_raraII = t_flash[:,0].shape[0]                                             \n",
    "t_flash_raraII\n"
   ]
  },
  {
   "cell_type": "code",
   "execution_count": 37,
   "metadata": {},
   "outputs": [
    {
     "data": {
      "text/plain": [
       "array([  7499,   7564,   7627, ..., 355710, 355769, 355828])"
      ]
     },
     "execution_count": 37,
     "metadata": {},
     "output_type": "execute_result"
    }
   ],
   "source": [
    "u,c = np.unique( t_flash[:,0], return_counts=True)   \n",
    "u"
   ]
  },
  {
   "cell_type": "code",
   "execution_count": 38,
   "metadata": {},
   "outputs": [
    {
     "data": {
      "text/plain": [
       "array([1, 1, 1, ..., 1, 1, 1], dtype=int64)"
      ]
     },
     "execution_count": 38,
     "metadata": {},
     "output_type": "execute_result"
    }
   ],
   "source": [
    "c"
   ]
  },
  {
   "cell_type": "code",
   "execution_count": null,
   "metadata": {},
   "outputs": [],
   "source": [
    "\n",
    "\n",
    "\n",
    "df_t_flash = a_fun.to_df(t_flash)\n",
    "plt.figure(figsize=(30,8))\n",
    "axes = plt.gca()\n",
    "plt.plot(df_t_flash['sample'], df_t_flash[0])\n",
    "axes.set_title('Señal t_flash[0], zoom'), axes.title.set_size(30)\n",
    "axes.set_xlabel(xlabel), axes.set_ylabel(ylabel)\n",
    "axes.xaxis.label.set_size(20), axes.yaxis.label.set_size(20)\n",
    "plt.xlim([0,500]), plt.ylim([0,60000])\n",
    "#plt.savefig(\"./a_images/t_flash[0]_zoom.jpg\")\n",
    "plt.grid(), plt.show()\n",
    "df_t_flash      "
   ]
  },
  {
   "cell_type": "code",
   "execution_count": 32,
   "metadata": {},
   "outputs": [
    {
     "data": {
      "text/plain": [
       "False"
      ]
     },
     "execution_count": 32,
     "metadata": {},
     "output_type": "execute_result"
    }
   ],
   "source": [
    "t_flash_rara = np.unique(t_flash[:,0]).shape[0] != 4200\n",
    "t_flash_rara"
   ]
  },
  {
   "cell_type": "code",
   "execution_count": null,
   "metadata": {},
   "outputs": [],
   "source": [
    "df_t_flash_rara = a_fun.to_df(t_flash_rara)\n",
    "plt.figure(figsize=(30,8))\n",
    "axes = plt.gca()\n",
    "plt.plot(df_t_flash_rara['sample'], df_t_flash_rara[0])\n",
    "axes.set_title('Señal t_flash_rara[0], zoom'), axes.title.set_size(30)\n",
    "axes.set_xlabel(xlabel), axes.set_ylabel(ylabel)\n",
    "axes.xaxis.label.set_size(20), axes.yaxis.label.set_size(20)\n",
    "plt.xlim([0,500]), plt.ylim([0,60000])\n",
    "#plt.savefig(\"./a_images/t_flash[0]_zoom.jpg\")\n",
    "plt.grid(), plt.show()"
   ]
  },
  {
   "cell_type": "code",
   "execution_count": 16,
   "metadata": {},
   "outputs": [
    {
     "data": {
      "text/plain": [
       "1"
      ]
     },
     "execution_count": 16,
     "metadata": {},
     "output_type": "execute_result"
    }
   ],
   "source": [
    "u"
   ]
  },
  {
   "cell_type": "code",
   "execution_count": 12,
   "metadata": {},
   "outputs": [
    {
     "data": {
      "text/plain": [
       "array([0, 1, 3, 4])"
      ]
     },
     "execution_count": 12,
     "metadata": {},
     "output_type": "execute_result"
    }
   ],
   "source": [
    "a = [0, 0, 1,1 ,2, 3,3,3,3,3,3, 4,4,10]\n",
    "b = np.unique(a)\n",
    "u,c = np.unique(a, return_counts=True)\n",
    "dup = u[c>1]\n",
    "dup"
   ]
  },
  {
   "cell_type": "code",
   "execution_count": 23,
   "metadata": {},
   "outputs": [
    {
     "data": {
      "text/plain": [
       "array([ 0,  1,  2,  3,  4, 10])"
      ]
     },
     "execution_count": 23,
     "metadata": {},
     "output_type": "execute_result"
    }
   ],
   "source": [
    "b"
   ]
  },
  {
   "cell_type": "code",
   "execution_count": 24,
   "metadata": {},
   "outputs": [
    {
     "data": {
      "text/plain": [
       "array([ 0,  1,  2,  3,  4, 10])"
      ]
     },
     "execution_count": 24,
     "metadata": {},
     "output_type": "execute_result"
    }
   ],
   "source": [
    "u"
   ]
  },
  {
   "cell_type": "code",
   "execution_count": 25,
   "metadata": {},
   "outputs": [
    {
     "data": {
      "text/plain": [
       "array([2, 2, 1, 6, 2, 1], dtype=int64)"
      ]
     },
     "execution_count": 25,
     "metadata": {},
     "output_type": "execute_result"
    }
   ],
   "source": [
    "c"
   ]
  },
  {
   "cell_type": "code",
   "execution_count": 26,
   "metadata": {},
   "outputs": [
    {
     "data": {
      "text/plain": [
       "array([0, 1, 3, 4])"
      ]
     },
     "execution_count": 26,
     "metadata": {},
     "output_type": "execute_result"
    }
   ],
   "source": [
    "dup"
   ]
  }
 ],
 "metadata": {
  "kernelspec": {
   "display_name": "base",
   "language": "python",
   "name": "python3"
  },
  "language_info": {
   "codemirror_mode": {
    "name": "ipython",
    "version": 3
   },
   "file_extension": ".py",
   "mimetype": "text/x-python",
   "name": "python",
   "nbconvert_exporter": "python",
   "pygments_lexer": "ipython3",
   "version": "3.9.7"
  },
  "orig_nbformat": 4,
  "vscode": {
   "interpreter": {
    "hash": "6b958d2ee4113081da5b7324adcb012071bef3fd829261c203699a43a2ce6bc6"
   }
  }
 },
 "nbformat": 4,
 "nbformat_minor": 2
}
