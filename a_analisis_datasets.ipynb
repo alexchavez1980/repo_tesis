{
 "cells": [
  {
   "cell_type": "markdown",
   "id": "0be01b6c-a609-46f2-8c4c-2b0f8e123b52",
   "metadata": {},
   "source": [
    "#### 1. Instalar e importar librerías"
   ]
  },
  {
   "cell_type": "code",
   "execution_count": 25,
   "id": "4382e7d8-779b-4368-820d-cffc49060cb0",
   "metadata": {},
   "outputs": [],
   "source": [
    "import mne                                                              # pip install mne\n",
    "mne.set_log_level('WARNING')                                            # Luego averiguar ¿para qué?\n",
    "import scipy.io\n",
    "import numpy as np\n",
    "import pandas as pd\n",
    "import matplotlib.pyplot as plt\n",
    "import seaborn as sb                                                    # Por ahora lo voy a usar para cambiar los nombres de las columnas\n",
    "color = ['green', 'blue','red','cyan', 'magenta', 'yellow','k','w']     # Paleta de colores para diferenciar las ondas\n",
    "                                                                        #import a_funciones as fun    "
   ]
  },
  {
   "cell_type": "markdown",
   "id": "8c614ede-0f10-4e88-93fd-1ca47c30406d",
   "metadata": {},
   "source": [
    "#### Análisis de los tres tipos de datasets\n",
    "- El *ERPTemplate.mat*:  \n",
    "ERPTemplate contiene sólo un array útil para éste estudio: 'routput'.  \n",
    "  \n",
    "- El tipo P300SXX.mat:  \n",
    "Complementar la info. Hay mucho que explicar en éste dataset\n",
    "  \n",
    "- El p300-subject-25.mat:\n",
    "Complementar la info. Hay mucho que explicar en éste dataset.\n",
    "    \n",
    "¿Por qué de p300-subject-25.mat y no de P300S04.mat por ejemplo?: Lo veo abajo.    \n",
    "El ERPTemplate.mat es para obetner los ERPs (Event-related potential) y drogar la señal.  "
   ]
  },
  {
   "cell_type": "code",
   "execution_count": 26,
   "id": "44e88f33",
   "metadata": {},
   "outputs": [
    {
     "name": "stdout",
     "output_type": "stream",
     "text": [
      "-----------------------------------------\n",
      "ERPTemplate:\n",
      "1. Encabezado :  ['__globals__', '__header__', '__version__', 'routput']\n",
      "2. Tipo :  <class 'dict'>\n",
      "-----------------------------------------\n",
      "P300S04:\n",
      "1. Encabezado :  ['Fs', 'Trials', 'Word', '__globals__', '__header__', '__version__', 'channelNames', 'channelRange', 'data', 'sampleTime', 'samples', 'stims', 'subject']\n",
      "2. Tipo :  <class 'dict'>\n",
      "-----------------------------------------\n",
      "p300subject25:\n",
      "1. Encabezado :  ['C', 'Fs', 'H', 'HH', 'IC', 'IM', 'Trials', 'Word', '__globals__', '__header__', '__version__', 'a', 'ab', 'ans', 'b', 'c', 'channelNames', 'channelRange', 'channels', 'counterhits', 'counternohits', 'd', 'data', 'diffs', 'duration', 'durs', 'e', 'f', 'h', 'i', 'idx', 'idxset', 'j', 'lag', 'n', 'sampleTime', 'samples', 'samplingFreq', 'sls', 'ss', 'stims', 'stimulations', 'stimuls', 'subject', 'targets', 'total', 'trial', 'validstimuls', 'vl', 'z']\n",
      "2. Tipo :  <class 'dict'>\n",
      "-----------------------------------------\n"
     ]
    }
   ],
   "source": [
    "ERPTemplate = scipy.io.loadmat('./dataset/ERPTemplate.mat') \n",
    "P300S04 = scipy.io.loadmat('./dataset/P300S04.mat')                       \n",
    "p300subject25 = scipy.io.loadmat('./dataset/p300-subject-25.mat') \n",
    "\n",
    "print(\"-----------------------------------------\")   \n",
    "print(\"ERPTemplate:\")   \n",
    "print(\"1. Encabezado : \", sorted(ERPTemplate))                                      #Informativo\n",
    "print(\"2. Tipo : \", type(ERPTemplate))\n",
    "print(\"-----------------------------------------\")   \n",
    "print(\"P300S04:\")   \n",
    "print(\"1. Encabezado : \", sorted(P300S04))                                      #Informativo\n",
    "print(\"2. Tipo : \", type(P300S04))\n",
    "print(\"-----------------------------------------\")   \n",
    "print(\"p300subject25:\")   \n",
    "print(\"1. Encabezado : \", sorted(p300subject25))                                      #Informativo\n",
    "print(\"2. Tipo : \", type(p300subject25))\n",
    "print(\"-----------------------------------------\") "
   ]
  },
  {
   "cell_type": "markdown",
   "id": "4526e7bd",
   "metadata": {},
   "source": [
    "Los tres son de igual estructura.  \n",
    "ERPTemplate contiene sólo un array útil para éste estudio: 'routput'.  \n",
    "A continuación habrá una pequeña descripción de los datos:  "
   ]
  },
  {
   "cell_type": "code",
   "execution_count": 24,
   "id": "cf7c2cee",
   "metadata": {},
   "outputs": [
    {
     "name": "stdout",
     "output_type": "stream",
     "text": [
      "-----------------------------------------\n",
      "routput:\n",
      "1. Tipo :  <class 'numpy.ndarray'>\n",
      "2. ¿Cómo deben leerse? :  object\n",
      "3. Tamaño:  8\n",
      "4. Forma: (1, 8)\n"
     ]
    }
   ],
   "source": [
    "routput = ERPTemplate['routput']\n",
    "\n",
    "print(\"-----------------------------------------\")   \n",
    "print(\"routput:\")\n",
    "print(\"1. Tipo : \", type(routput))\n",
    "print(\"2. ¿Cómo deben leerse? : \", routput.dtype)                       # dtype describes how the bytes in the fixed-size block of memory corresponding to an array item should be interpreted.\n",
    "print(\"3. Tamaño: \", routput.size)\n",
    "print(\"4. Forma:\", routput.shape)\n",
    "#routput\n"
   ]
  }
 ],
 "metadata": {
  "kernelspec": {
   "display_name": "Python 3.9.7 64-bit",
   "language": "python",
   "name": "python3"
  },
  "language_info": {
   "codemirror_mode": {
    "name": "ipython",
    "version": 3
   },
   "file_extension": ".py",
   "mimetype": "text/x-python",
   "name": "python",
   "nbconvert_exporter": "python",
   "pygments_lexer": "ipython3",
   "version": "3.9.7"
  },
  "vscode": {
   "interpreter": {
    "hash": "f8696d3d898bc62b90f4cd7d878fc87a051ec77bbff0b42338ab50969b9d3714"
   }
  }
 },
 "nbformat": 4,
 "nbformat_minor": 5
}
