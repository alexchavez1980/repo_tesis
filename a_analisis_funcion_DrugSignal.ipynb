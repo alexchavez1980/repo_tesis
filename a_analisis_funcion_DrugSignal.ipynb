{
 "cells": [
  {
   "cell_type": "code",
   "execution_count": null,
   "id": "4382e7d8-779b-4368-820d-cffc49060cb0",
   "metadata": {},
   "outputs": [],
   "source": [
    "#-----------------------------------------------------------------------\n",
    "# Librerías y algunas variables\n",
    "#-----------------------------------------------------------------------\n",
    "import mne                                                              # pip install mne\n",
    "mne.set_log_level('WARNING')                                            # Luego averiguar ¿para qué?\n",
    "import scipy.io\n",
    "import numpy as np\n",
    "import pandas as pd\n",
    "import matplotlib.pyplot as plt\n",
    "import seaborn as sb                                                    # Por ahora lo voy a usar para cambiar los nombres de las columnas\n",
    "\n",
    "import a_funciones as a_fun  \n",
    "\n",
    "color = ['green', 'blue','red','cyan', 'magenta', 'yellow','k','w']     # Paleta de colores para diferenciar las ondas\n",
    "xlabel = 'Muestra'\n",
    "ylabel = 'Amplitud (uV)'\n",
    "\n",
    "#-----------------------------------------------------------------------\n",
    "# Funciones DrugSignal\n",
    "#-----------------------------------------------------------------------\n",
    "def DrugSignal(signal, t_flash):\n",
    "    '''\n",
    "    Randomize amplitude and jitter\n",
    "    Find the right locations where this should be inserted in the stream\n",
    "    Insert the template mantaining the continuity and physiological meaning of the EEG\n",
    "    '''\n",
    "    for i in range(0,4200):\n",
    "        if (t_flash[i,3]==2):\n",
    "            #signal[t_flash[i,0]-1:t_flash[i,0]+250-1,:] += (erptemplate1*3)\n",
    "            #signal[t_flash[i,0]-1:t_flash[i,0]+250-1,:] += (erptemplate1*100)\n",
    "            #signal[t_flash[i,0]-1:t_flash[i,0]+250-1,:]\n",
    "            signal[t_flash[i,0]-1:t_flash[i,0]+250-1,:]\n",
    "    return signal\n",
    "\n",
    "#-----------------------------------------------------------------------\n",
    "# Carga de archivos para proceso de señales\n",
    "#-----------------------------------------------------------------------\n",
    "mat = scipy.io.loadmat('./dataset/ERPTemplate.mat')\n",
    "routput = mat['routput']\n",
    "\n",
    "erptemplate1 = routput[0][7][0][1][0][0][0][7]                          # In this ERPTemplate, there are two different template signals that are good.\n",
    "erptemplate2 = routput[0][7][0][1][0][0][0][0] \n",
    "\n",
    "erptemplate1 = np.delete( erptemplate1, range(0,256,43),0)              # The original ERPTemplate dataset has a sampling frequency of 256 so I need to perform a small downsampling to 250 Hz\n",
    "erptemplate2 = np.delete( erptemplate2, range(0,256,43),0)\n",
    "\n",
    "p300subject25 = scipy.io.loadmat('./dataset/p300-subject-25.mat')       # Now load the basal EEG stream\n",
    "\n",
    "signal = p300subject25['data'][0][0][0]    \n",
    "df_signal = a_fun.to_df(signal)\n",
    "\n",
    "t_flash = p300subject25['data'][0][0][4]                                # Flash matrix\n",
    "df_t_flash = a_fun.to_df(t_flash)"
   ]
  },
  {
   "cell_type": "markdown",
   "id": "d18199e0",
   "metadata": {},
   "source": [
    "A continuación, grafico las dos señales a trabajar: signal y flash.  "
   ]
  },
  {
   "cell_type": "code",
   "execution_count": null,
   "id": "140619ee",
   "metadata": {},
   "outputs": [],
   "source": [
    "plt.figure(figsize=(30,8))                                     \n",
    "for i in range(0,7):\n",
    "    plt.plot(df_signal['sample'], df_signal[i], color[i])\n",
    "plt.grid(), plt.show()\n",
    "\n",
    "plt.figure(figsize=(30,8))\n",
    "plt.plot(df_t_flash['sample'], df_t_flash[0])\n",
    "plt.grid(), plt.show()\n",
    "\n",
    "plt.figure(figsize=(30,8))\n",
    "plt.plot(df_t_flash['sample'], df_t_flash[3])\n",
    "plt.grid(), plt.show()\n",
    "\n",
    "plt.figure(figsize=(30,8))\n",
    "plt.plot(df_t_flash['sample'], df_t_flash[3])\n",
    "plt.xlim([0,100]), plt.ylim([0.9,2.1])\n",
    "plt.grid(), plt.show()"
   ]
  },
  {
   "cell_type": "markdown",
   "id": "9d1d2566",
   "metadata": {},
   "source": [
    "En la siguiente gráfica modifico el erptemplate1 multiplicándolo por 1000 dentro de la función DrugSignal_ALEX.  \n",
    "El objetivo es visualizar en dónde afecta la señal.    \n",
    "Se detecta que el rango afectado es entre 0 y 50ms.  \n",
    "Para la gráfica de DrigSignal veo en un rango pequeño: plt.xlim([7500,15500]), plt.ylim([-5500,6800]).  \n",
    "En ése mismo rango, signal es de muy baja amplitud.  "
   ]
  },
  {
   "cell_type": "code",
   "execution_count": null,
   "id": "793a9821",
   "metadata": {},
   "outputs": [],
   "source": [
    "#-----------------------------------------------------------------------\n",
    "# Modificaciones de DrugSignal para analizar el comportamiento\n",
    "#-----------------------------------------------------------------------\n",
    "signal = DrugSignal(signal, t_flash)\n",
    "df_signal = a_fun.to_df(signal)\n",
    "\n",
    "plt.figure(figsize=(30,8))                                      # DrugSignal\n",
    "for i in range(0,7):\n",
    "    plt.plot(df_signal['sample'], df_signal[i], color[i])\n",
    "#plt.xlim([7500,15500]), plt.ylim([-300,300])\n",
    "plt.grid(), plt.show()"
   ]
  }
 ],
 "metadata": {
  "kernelspec": {
   "display_name": "Python 3",
   "language": "python",
   "name": "python3"
  },
  "language_info": {
   "codemirror_mode": {
    "name": "ipython",
    "version": 3
   },
   "file_extension": ".py",
   "mimetype": "text/x-python",
   "name": "python",
   "nbconvert_exporter": "python",
   "pygments_lexer": "ipython3",
   "version": "3.9.7 (tags/v3.9.7:1016ef3, Aug 30 2021, 20:19:38) [MSC v.1929 64 bit (AMD64)]"
  },
  "vscode": {
   "interpreter": {
    "hash": "f8696d3d898bc62b90f4cd7d878fc87a051ec77bbff0b42338ab50969b9d3714"
   }
  }
 },
 "nbformat": 4,
 "nbformat_minor": 5
}
